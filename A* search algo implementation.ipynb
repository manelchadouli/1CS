{
  "nbformat": 4,
  "nbformat_minor": 0,
  "metadata": {
    "colab": {
      "provenance": [],
      "authorship_tag": "ABX9TyMOWnAqjSb4zrpdeLUPymI5",
      "include_colab_link": true
    },
    "kernelspec": {
      "name": "python3",
      "display_name": "Python 3"
    },
    "language_info": {
      "name": "python"
    }
  },
  "cells": [
    {
      "cell_type": "markdown",
      "metadata": {
        "id": "view-in-github",
        "colab_type": "text"
      },
      "source": [
        "<a href=\"https://colab.research.google.com/github/manelchadouli/1CS/blob/main/A*%20search%20algo%20implementation.ipynb\" target=\"_parent\"><img src=\"https://colab.research.google.com/assets/colab-badge.svg\" alt=\"Open In Colab\"/></a>"
      ]
    },
    {
      "cell_type": "markdown",
      "source": [
        "ROBOTICS HOMEWORK\n",
        "A* search algorithm implementation and a vedio demo"
      ],
      "metadata": {
        "id": "iOfBPj3d_YRy"
      }
    },
    {
      "cell_type": "markdown",
      "source": [
        "1)FFmpeg for generatiing vedio out of the frames"
      ],
      "metadata": {
        "id": "BX9J8Vt9_jSm"
      }
    },
    {
      "cell_type": "code",
      "source": [
        "!apt-get install -y ffmpeg\n"
      ],
      "metadata": {
        "colab": {
          "base_uri": "https://localhost:8080/",
          "height": 104
        },
        "id": "wa5NSyWGlIKj",
        "outputId": "9594e014-3154-433e-a961-36ea51c9a9b6"
      },
      "execution_count": 8,
      "outputs": [
        {
          "output_type": "stream",
          "name": "stdout",
          "text": [
            "Reading package lists... Done\n",
            "Building dependency tree... Done\n",
            "Reading state information... Done\n",
            "ffmpeg is already the newest version (7:4.4.2-0ubuntu0.22.04.1).\n",
            "0 upgraded, 0 newly installed, 0 to remove and 15 not upgraded.\n"
          ]
        }
      ]
    },
    {
      "cell_type": "markdown",
      "source": [
        "the search algorithm implementation"
      ],
      "metadata": {
        "id": "8jsxomGf_WUk"
      }
    },
    {
      "cell_type": "code",
      "source": [
        "# %matplotlib notebook\n",
        "import shutil\n",
        "import os\n",
        "import numpy as np\n",
        "from matplotlib import pyplot as plt\n",
        "from matplotlib.animation import FuncAnimation\n",
        "\n",
        "plt.style.use('seaborn-darkgrid')\n",
        "\n",
        "def print_line(line, delimiter):\n",
        "    print('[', end=\"\")\n",
        "    for c in line:\n",
        "        print(\"{:^3}\".format(str(c)), end=\"\")\n",
        "    print(']', end=\"\")\n",
        "    if delimiter:\n",
        "        print(',', end=\"\")\n",
        "\n",
        "def print_2d_list(input_list):\n",
        "    print('[', end=\"\")\n",
        "    print_line(input_list[0], True)\n",
        "    print()\n",
        "    for row in input_list[1:-1]:\n",
        "        print(\" \", end=\"\")\n",
        "        print_line(row, True)\n",
        "        print()\n",
        "    print(\" \", end=\"\")\n",
        "    print_line(input_list[-1], False)\n",
        "    print(']')\n",
        "\n",
        "def is_in_map(grid, x, y):\n",
        "    if 0 <= x < len(grid) and 0 <= y < len(grid[0]):\n",
        "        return True\n",
        "    return False\n",
        "\n",
        "def valid_step(grid, observed, x, y):\n",
        "    if is_in_map(grid, x, y):\n",
        "        if grid[x][y] == 0 and observed[x][y] == 0:\n",
        "            return True\n",
        "        return False\n",
        "\n",
        "def search(grid, heuristic, init, goal, cost, delta, delta_name):\n",
        "    x = init[0]\n",
        "    y = init[1]\n",
        "    f = heuristic[x][y]\n",
        "    g = 0\n",
        "    observed_cells = [[0 for cell in row] for row in grid]\n",
        "    moves = [[0 for cell in row] for row in grid]\n",
        "    expansion = [[0 for cell in row] for row in grid]\n",
        "    search_queue = [[f, g, x, y]]\n",
        "\n",
        "    found = False\n",
        "    resign = False\n",
        "\n",
        "    while not found and not resign:\n",
        "        if len(search_queue) == 0:\n",
        "            resign = True\n",
        "        else:\n",
        "            search_queue.sort()\n",
        "            next = search_queue.pop(0)\n",
        "            f = next[0]\n",
        "            g = next[1]\n",
        "            x = next[2]\n",
        "            y = next[3]\n",
        "\n",
        "            if x == goal[0] and y == goal[1]:\n",
        "                found = True\n",
        "            else:\n",
        "                for i in range(len(delta)):\n",
        "                    x_next = x + delta[i][0]\n",
        "                    y_next = y + delta[i][1]\n",
        "                    if valid_step(grid, observed_cells, x_next, y_next):\n",
        "                        g_next = g + cost\n",
        "                        f_next = g_next + heuristic[x_next][y_next]\n",
        "                        search_queue.append([f_next, g_next, x_next, y_next])\n",
        "                        observed_cells[x_next][y_next] = 1\n",
        "                        moves[x_next][y_next] = i\n",
        "                        expansion[x][y] = delta_name[i]\n",
        "\n",
        "    return [expansion, moves]\n",
        "\n",
        "def shortest_path_finder(actions, delta, delta_name, init, goal):\n",
        "    x = goal[0]\n",
        "    y = goal[1]\n",
        "    policy = [[\"x\" for cell in row] for row in actions]\n",
        "    policy[x][y] = '*'\n",
        "    shortest_path = [[x, y]]\n",
        "\n",
        "    while x != init[0] or y != init[1]:\n",
        "        x_back = x - delta[actions[x][y]][0]\n",
        "        y_back = y - delta[actions[x][y]][1]\n",
        "        policy[x_back][y_back] = delta_name[actions[x][y]]\n",
        "        x = x_back\n",
        "        y = y_back\n",
        "        shortest_path.append([x, y])\n",
        "\n",
        "    return policy, shortest_path\n",
        "\n",
        "def plot_grid(grid, title):\n",
        "    plt.figure(figsize=(len(grid[0]), len(grid)))\n",
        "    cmap = plt.colormaps['Blues']\n",
        "    norm = plt.Normalize(0, len(np.unique(grid)) - 1)\n",
        "    img = plt.imshow([[np.where(np.unique(grid) == val)[0][0] for val in row] for row in grid], cmap=cmap, norm=norm, interpolation='nearest', origin='upper')\n",
        "    plt.title(title)\n",
        "    plt.colorbar(ticks=np.arange(len(np.unique(grid))))\n",
        "    return img\n",
        "def save_frames(ims, folder='frames'):\n",
        "    # Create a folder to store frames\n",
        "    if not os.path.exists(folder):\n",
        "        os.makedirs(folder)\n",
        "\n",
        "    # Save each frame as an image\n",
        "    for i, im in enumerate(ims):\n",
        "        im[0].get_figure().savefig(f\"{folder}/frame_{i:03d}.png\")\n",
        "        plt.close(im[0].get_figure())\n",
        "\n",
        "    # Create a zip file containing the frames\n",
        "    shutil.make_archive(folder, 'zip', folder)\n",
        "\n",
        "def main():\n",
        "    grid = [[0, 1, 0, 0, 0, 0],\n",
        "            [0, 1, 0, 0, 0, 0],\n",
        "            [0, 1, 0, 1, 0, 0],\n",
        "            [0, 1, 0, 1, 0, 0],\n",
        "            [0, 0, 0, 1, 0, 0]]\n",
        "\n",
        "    heuristic = [[9, 8, 7, 6, 5, 4],\n",
        "                  [8, 7, 6, 5, 4, 3],\n",
        "                  [7, 6, 5, 4, 3, 2],\n",
        "                  [6, 5, 4, 3, 2, 1],\n",
        "                  [5, 4, 3, 2, 1, 0]]\n",
        "\n",
        "    init = [0, 0]\n",
        "    goal = [len(grid) - 1, len(grid[0]) - 1]\n",
        "    cost = 1\n",
        "\n",
        "    delta = [[-1, 0],  # go up\n",
        "             [0, -1],  # go left\n",
        "             [1, 0],   # go down\n",
        "             [0, 1]]   # go right\n",
        "\n",
        "    delta_name = ['^', '<', 'v', '>']\n",
        "\n",
        "    expansions, actions_ids = search(grid, heuristic, init, goal, cost, delta, delta_name)\n",
        "    policy, shortest_path = shortest_path_finder(actions_ids, delta, delta_name, init, goal)\n",
        "\n",
        "    print_2d_list(expansions)\n",
        "    print()\n",
        "    print(shortest_path)\n",
        "    print_2d_list(policy)\n",
        "\n",
        "    # Plot the grid and expansion map\n",
        "    fig, ax = plt.subplots()\n",
        "    ims = []\n",
        "\n",
        "    for step, path_point in enumerate(shortest_path):\n",
        "        policy, _ = shortest_path_finder(actions_ids, delta, delta_name, init, path_point)\n",
        "        ims.append([plot_grid(policy, f\"Step {step + 1}\")])\n",
        "\n",
        "    save_frames(ims)\n",
        "\n",
        "if __name__ == \"__main__\":\n",
        "    %matplotlib inline\n",
        "    main()\n",
        "\n"
      ],
      "metadata": {
        "colab": {
          "base_uri": "https://localhost:8080/",
          "height": 693
        },
        "id": "vp9b6VVjjys3",
        "outputId": "3cb07aaf-347f-4367-bd03-aa00198afec1"
      },
      "execution_count": 31,
      "outputs": [
        {
          "output_type": "stream",
          "name": "stderr",
          "text": [
            "<ipython-input-31-ff1a05792ece>:8: MatplotlibDeprecationWarning: The seaborn styles shipped by Matplotlib are deprecated since 3.6, as they no longer correspond to the styles shipped by seaborn. However, they will remain available as 'seaborn-v0_8-<style>'. Alternatively, directly use the seaborn API instead.\n",
            "  plt.style.use('seaborn-darkgrid')\n"
          ]
        },
        {
          "output_type": "stream",
          "name": "stdout",
          "text": [
            "[[ v  0  0  0  0  0 ],\n",
            " [ v  0  >  >  >  v ],\n",
            " [ v  0  ^  0  v  v ],\n",
            " [ v  0  ^  0  v  v ],\n",
            " [ >  >  ^  0  0  0 ]]\n",
            "\n",
            "[[4, 5], [3, 5], [2, 5], [1, 5], [1, 4], [1, 3], [1, 2], [2, 2], [3, 2], [4, 2], [4, 1], [4, 0], [3, 0], [2, 0], [1, 0], [0, 0]]\n",
            "[[ v  x  x  x  x  x ],\n",
            " [ v  x  >  >  >  v ],\n",
            " [ v  x  ^  x  x  v ],\n",
            " [ v  x  ^  x  x  v ],\n",
            " [ >  >  ^  x  x  * ]]\n"
          ]
        },
        {
          "output_type": "display_data",
          "data": {
            "text/plain": [
              "<Figure size 640x480 with 1 Axes>"
            ],
            "image/png": "[encoded data removed]"
          },
          "metadata": {}
        }
      ]
    },
    {
      "cell_type": "markdown",
      "source": [
        "genrating output.mp4 of the frames"
      ],
      "metadata": {
        "id": "3Uk3AOJP_xOY"
      }
    },
    {
      "cell_type": "code",
      "source": [
        "!ffmpeg -framerate 1 -i frames/frame_%03d.png -c:v libx264 -r 30 -pix_fmt yuv420p output.mp4\n"
      ],
      "metadata": {
        "colab": {
          "base_uri": "https://localhost:8080/",
          "height": 0
        },
        "id": "rEh_YruO7Ubc",
        "outputId": "88c8ed76-e8e1-4357-cfce-400ab4900f99"
      },
      "execution_count": 29,
      "outputs": [
        {
          "output_type": "stream",
          "name": "stdout",
          "text": [
            "ffmpeg version 4.4.2-0ubuntu0.22.04.1 Copyright (c) 2000-2021 the FFmpeg developers\n",
            "  built with gcc 11 (Ubuntu 11.2.0-19ubuntu1)\n",
            "  configuration: --prefix=/usr --extra-version=0ubuntu0.22.04.1 --toolchain=hardened --libdir=/usr/lib/x86_64-linux-gnu --incdir=/usr/include/x86_64-linux-gnu --arch=amd64 --enable-gpl --disable-stripping --enable-gnutls --enable-ladspa --enable-libaom --enable-libass --enable-libbluray --enable-libbs2b --enable-libcaca --enable-libcdio --enable-libcodec2 --enable-libdav1d --enable-libflite --enable-libfontconfig --enable-libfreetype --enable-libfribidi --enable-libgme --enable-libgsm --enable-libjack --enable-libmp3lame --enable-libmysofa --enable-libopenjpeg --enable-libopenmpt --enable-libopus --enable-libpulse --enable-librabbitmq --enable-librubberband --enable-libshine --enable-libsnappy --enable-libsoxr --enable-libspeex --enable-libsrt --enable-libssh --enable-libtheora --enable-libtwolame --enable-libvidstab --enable-libvorbis --enable-libvpx --enable-libwebp --enable-libx265 --enable-libxml2 --enable-libxvid --enable-libzimg --enable-libzmq --enable-libzvbi --enable-lv2 --enable-omx --enable-openal --enable-opencl --enable-opengl --enable-sdl2 --enable-pocketsphinx --enable-librsvg --enable-libmfx --enable-libdc1394 --enable-libdrm --enable-libiec61883 --enable-chromaprint --enable-frei0r --enable-libx264 --enable-shared\n",
            "  libavutil      56. 70.100 / 56. 70.100\n",
            "  libavcodec     58.134.100 / 58.134.100\n",
            "  libavformat    58. 76.100 / 58. 76.100\n",
            "  libavdevice    58. 13.100 / 58. 13.100\n",
            "  libavfilter     7.110.100 /  7.110.100\n",
            "  libswscale      5.  9.100 /  5.  9.100\n",
            "  libswresample   3.  9.100 /  3.  9.100\n",
            "  libpostproc    55.  9.100 / 55.  9.100\n",
            "Input #0, image2, from 'frames/frame_%03d.png':\n",
            "  Duration: 00:00:16.00, start: 0.000000, bitrate: N/A\n",
            "  Stream #0:0: Video: png, rgba(pc), 640x480 [SAR 3937:3937 DAR 4:3], 1 fps, 1 tbr, 1 tbn, 1 tbc\n",
            "Stream mapping:\n",
            "  Stream #0:0 -> #0:0 (png (native) -> h264 (libx264))\n",
            "Press [q] to stop, [?] for help\n",
            "\u001b[1;36m[libx264 @ 0x56398645dd00] \u001b[0musing SAR=1/1\n",
            "\u001b[1;36m[libx264 @ 0x56398645dd00] \u001b[0musing cpu capabilities: MMX2 SSE2Fast SSSE3 SSE4.2 AVX FMA3 BMI2 AVX2\n",
            "\u001b[1;36m[libx264 @ 0x56398645dd00] \u001b[0mprofile High, level 3.0, 4:2:0, 8-bit\n",
            "\u001b[1;36m[libx264 @ 0x56398645dd00] \u001b[0m264 - core 163 r3060 5db6aa6 - H.264/MPEG-4 AVC codec - Copyleft 2003-2021 - http://www.videolan.org/x264.html - options: cabac=1 ref=3 deblock=1:0:0 analyse=0x3:0x113 me=hex subme=7 psy=1 psy_rd=1.00:0.00 mixed_ref=1 me_range=16 chroma_me=1 trellis=1 8x8dct=1 cqm=0 deadzone=21,11 fast_pskip=1 chroma_qp_offset=-2 threads=3 lookahead_threads=1 sliced_threads=0 nr=0 decimate=1 interlaced=0 bluray_compat=0 constrained_intra=0 bframes=3 b_pyramid=2 b_adapt=1 b_bias=0 direct=1 weightb=1 open_gop=0 weightp=2 keyint=250 keyint_min=25 scenecut=40 intra_refresh=0 rc_lookahead=40 rc=crf mbtree=1 crf=23.0 qcomp=0.60 qpmin=0 qpmax=69 qpstep=4 ip_ratio=1.40 aq=1:1.00\n",
            "Output #0, mp4, to 'output.mp4':\n",
            "  Metadata:\n",
            "    encoder         : Lavf58.76.100\n",
            "  Stream #0:0: Video: h264 (avc1 / 0x31637661), yuv420p(tv, progressive), 640x480 [SAR 1:1 DAR 4:3], q=2-31, 30 fps, 15360 tbn\n",
            "    Metadata:\n",
            "      encoder         : Lavc58.134.100 libx264\n",
            "    Side data:\n",
            "      cpb: bitrate max/min/avg: 0/0/0 buffer size: 0 vbv_delay: N/A\n",
            "frame=  480 fps=244 q=-1.0 Lsize=      18kB time=00:00:15.90 bitrate=   9.3kbits/s dup=464 drop=0 speed=8.07x    \n",
            "video:11kB audio:0kB subtitle:0kB other streams:0kB global headers:0kB muxing overhead: 56.346645%\n",
            "\u001b[1;36m[libx264 @ 0x56398645dd00] \u001b[0mframe I:2     Avg QP: 8.50  size:   107\n",
            "\u001b[1;36m[libx264 @ 0x56398645dd00] \u001b[0mframe P:121   Avg QP:10.10  size:    29\n",
            "\u001b[1;36m[libx264 @ 0x56398645dd00] \u001b[0mframe B:357   Avg QP:13.67  size:    21\n",
            "\u001b[1;36m[libx264 @ 0x56398645dd00] \u001b[0mconsecutive B-frames:  0.8%  0.0%  0.0% 99.2%\n",
            "\u001b[1;36m[libx264 @ 0x56398645dd00] \u001b[0mmb I  I16..4: 100.0%  0.0%  0.0%\n",
            "\u001b[1;36m[libx264 @ 0x56398645dd00] \u001b[0mmb P  I16..4:  0.0%  0.0%  0.0%  P16..4:  0.0%  0.0%  0.0%  0.0%  0.0%    skip:100.0%\n",
            "\u001b[1;36m[libx264 @ 0x56398645dd00] \u001b[0mmb B  I16..4:  0.0%  0.0%  0.0%  B16..8:  0.0%  0.0%  0.0%  direct: 0.0%  skip:100.0%\n",
            "\u001b[1;36m[libx264 @ 0x56398645dd00] \u001b[0m8x8 transform intra:0.0%\n",
            "\u001b[1;36m[libx264 @ 0x56398645dd00] \u001b[0mcoded y,uvDC,uvAC intra: 0.0% 0.0% 0.0% inter: 0.0% 0.0% 0.0%\n",
            "\u001b[1;36m[libx264 @ 0x56398645dd00] \u001b[0mi16 v,h,dc,p: 97%  0%  3%  0%\n",
            "\u001b[1;36m[libx264 @ 0x56398645dd00] \u001b[0mi8c dc,h,v,p: 100%  0%  0%  0%\n",
            "\u001b[1;36m[libx264 @ 0x56398645dd00] \u001b[0mWeighted P-Frames: Y:0.0% UV:0.0%\n",
            "\u001b[1;36m[libx264 @ 0x56398645dd00] \u001b[0mkb/s:5.54\n"
          ]
        }
      ]
    },
    {
      "cell_type": "code",
      "source": [
        "ls frames\n"
      ],
      "metadata": {
        "colab": {
          "base_uri": "https://localhost:8080/",
          "height": 0
        },
        "id": "RkcfA4mF8YKi",
        "outputId": "72a8a581-e4fe-4d86-a684-8b27bd9a7744"
      },
      "execution_count": 30,
      "outputs": [
        {
          "output_type": "stream",
          "name": "stdout",
          "text": [
            "frame_000.png  frame_003.png  frame_006.png  frame_009.png  frame_012.png  frame_015.png\n",
            "frame_001.png  frame_004.png  frame_007.png  frame_010.png  frame_013.png\n",
            "frame_002.png  frame_005.png  frame_008.png  frame_011.png  frame_014.png\n"
          ]
        }
      ]
    }
  ]
}